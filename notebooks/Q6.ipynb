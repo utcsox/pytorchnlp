{
 "cells": [
  {
   "cell_type": "markdown",
   "id": "regulation-rocket",
   "metadata": {},
   "source": [
    "6.  When the number of class is 2, please modifiy your cross-entropy function, so that it can accept soft labels.  (In this case, the larget is no longer 0 or 1, it's a float number from 0 to 1 and stands for the probability of being from class 1. )"
   ]
  },
  {
   "cell_type": "code",
   "execution_count": 7,
   "id": "entertaining-prairie",
   "metadata": {},
   "outputs": [],
   "source": [
    "import torch\n",
    "import numpy as np\n",
    "\n",
    "def get_an_input(seed0=0, seed1=1, n_class=2, n_sample=3, n_feature=5):\n",
    "\n",
    "    torch.manual_seed(seed0)\n",
    "\n",
    "    A = torch.autograd.Variable(torch.rand(n_feature, n_class), requires_grad=True)\n",
    "\n",
    "    torch.manual_seed(seed1)\n",
    "\n",
    "    x = torch.autograd.Variable(torch.rand(n_sample, n_feature), requires_grad=False)\n",
    "\n",
    "    return A, x\n",
    " \n",
    "\n",
    "def test(cross_entropy2, soft_cross_entropy, n_class=2, n_sample=4, n_feature=5):\n",
    "\n",
    "    seed0, seed1 = np.random.randint(100), np.random.randint(100)\n",
    "\n",
    "    loss = torch.nn.CrossEntropyLoss()\n",
    "\n",
    "    A0, x0 = get_an_input(seed0, seed1, n_class, n_sample, n_feature)\n",
    "\n",
    "    A1, x1 = get_an_input(seed0, seed1, n_class, n_sample, n_feature)\n",
    "    \n",
    "    A2, x2 = get_an_input(seed0, seed1, n_class, n_sample, n_feature)\n",
    "\n",
    "    target = torch.tensor([np.random.randint(n_class) for _ in range(n_sample)])\n",
    "    \n",
    "    s_target = torch.tensor([np.random.dirichlet(np.ones(n_class),size=1) for _ in range(n_sample)])\n",
    "    soft_target = torch.squeeze(s_target, 1)\n",
    "    \n",
    "\n",
    "    loss0 = loss(x1.matmul(A1), target)\n",
    "\n",
    "    loss1 = cross_entropy2(torch.softmax(x0.matmul(A0), dim=1), target)\n",
    "     \n",
    "    loss2 = soft_cross_entropy(torch.softmax(x2.matmul(A2), dim=1), soft_target)\n",
    "\n",
    " \n",
    "    loss0.backward()\n",
    "\n",
    "    loss1.backward()\n",
    "    \n",
    "    loss2.backward()\n",
    "    \n",
    "\n",
    "\n",
    "    print(loss0, '\\n')\n",
    "\n",
    "    print(loss1, '\\n')\n",
    "    \n",
    "    print(loss2, '\\n')\n",
    "\n",
    "    print(A0.grad, '\\n')\n",
    "\n",
    "    print(A1.grad, '\\n')\n",
    "    \n",
    "    print(A2.grad, '\\n')\n",
    "    \n",
    "\n",
    "def soft_cross_entropy(logits, target):\n",
    "    #### start your code #####\n",
    "    m = target.shape[0]\n",
    "    soft_log_likelihood = -torch.log(torch.sum(logits * target, dim=1))\n",
    "    soft_loss = torch.sum(soft_log_likelihood, dim=0)/m\n",
    "    \n",
    "    return soft_loss\n",
    "    \n",
    "    ### End your code   ##### \n",
    "\n",
    "def cross_entropy2(logits, target):\n",
    "    \n",
    "\n",
    "    #################### Start your code ######################\n",
    "    m = target.shape[0]\n",
    "    log_likelihood = -torch.log(logits[range(m), target])\n",
    "    loss = torch.sum(log_likelihood, dim=0)/m\n",
    "    \n",
    "    print('m has a shape of:', m)\n",
    "    print(\"cross_entropy2 loss\", loss)\n",
    "\n",
    "    #################### End your code #######################\n",
    "\n",
    "    return loss"
   ]
  },
  {
   "cell_type": "code",
   "execution_count": 8,
   "id": "nearby-lafayette",
   "metadata": {},
   "outputs": [
    {
     "name": "stdout",
     "output_type": "stream",
     "text": [
      "m has a shape of: 4\n",
      "cross_entropy2 loss tensor(0.7291, grad_fn=<DivBackward0>)\n",
      "tensor(0.7291, grad_fn=<NllLossBackward>) \n",
      "\n",
      "tensor(0.7291, grad_fn=<DivBackward0>) \n",
      "\n",
      "tensor(0.6525, dtype=torch.float64, grad_fn=<DivBackward0>) \n",
      "\n",
      "tensor([[ 0.0757, -0.0757],\n",
      "        [-0.0180,  0.0180],\n",
      "        [ 0.0284, -0.0284],\n",
      "        [ 0.0474, -0.0474],\n",
      "        [-0.0200,  0.0200]]) \n",
      "\n",
      "tensor([[ 0.0757, -0.0757],\n",
      "        [-0.0180,  0.0180],\n",
      "        [ 0.0284, -0.0284],\n",
      "        [ 0.0474, -0.0474],\n",
      "        [-0.0200,  0.0200]]) \n",
      "\n",
      "tensor([[-0.0618,  0.0618],\n",
      "        [-0.0382,  0.0382],\n",
      "        [-0.0905,  0.0905],\n",
      "        [-0.0665,  0.0665],\n",
      "        [-0.1048,  0.1048]]) \n",
      "\n"
     ]
    }
   ],
   "source": [
    "test(cross_entropy2, soft_cross_entropy)"
   ]
  },
  {
   "cell_type": "code",
   "execution_count": 9,
   "id": "official-prime",
   "metadata": {},
   "outputs": [
    {
     "data": {
      "text/plain": [
       "(tensor([0, 0, 0, 1]),\n",
       " tensor([[0.7865, 0.3806],\n",
       "         [0.7820, 0.4943],\n",
       "         [0.0335, 0.7917],\n",
       "         [0.8909, 0.8513],\n",
       "         [0.4682, 0.0496]], requires_grad=True),\n",
       " tensor([[0.8674, 0.2262, 0.0158, 0.3520, 0.0753],\n",
       "         [0.8784, 0.1758, 0.3905, 0.2213, 0.5736],\n",
       "         [0.0050, 0.1305, 0.8398, 0.9041, 0.9417],\n",
       "         [0.9396, 0.1421, 0.1628, 0.6087, 0.6335]]),\n",
       " tensor([[0.6108, 0.3892],\n",
       "         [0.5890, 0.4110],\n",
       "         [0.4583, 0.5417],\n",
       "         [0.6429, 0.3571]], grad_fn=<SoftmaxBackward>))"
      ]
     },
     "execution_count": 9,
     "metadata": {},
     "output_type": "execute_result"
    }
   ],
   "source": [
    "n_class = 2\n",
    "n_sample = 4\n",
    "n_feature= 5\n",
    "\n",
    "seed0, seed1 = np.random.randint(100), np.random.randint(100)\n",
    "A1, x1 = get_an_input(seed0, seed1, n_class, n_sample, n_feature)\n",
    "target = torch.tensor([np.random.randint(n_class) for _ in range(n_sample)])\n",
    "logits = torch.softmax(x1.matmul(A1), dim=1)\n",
    "\n",
    "target, A1, x1, logits"
   ]
  },
  {
   "cell_type": "code",
   "execution_count": 11,
   "id": "entitled-death",
   "metadata": {},
   "outputs": [
    {
     "data": {
      "text/plain": [
       "(tensor([0.4930, 0.5293, 0.7802, 1.0298], grad_fn=<NegBackward>),\n",
       " tensor(0.7081, grad_fn=<DivBackward0>))"
      ]
     },
     "execution_count": 11,
     "metadata": {},
     "output_type": "execute_result"
    }
   ],
   "source": [
    "m = target.shape[0]\n",
    "log_likelihood = -torch.log(logits[range(m), target])\n",
    "loss = torch.sum(log_likelihood, dim=0)/target.shape[0]\n",
    "log_likelihood, loss"
   ]
  },
  {
   "cell_type": "code",
   "execution_count": 12,
   "id": "composite-lyric",
   "metadata": {},
   "outputs": [
    {
     "data": {
      "text/plain": [
       "torch.Size([4, 2])"
      ]
     },
     "execution_count": 12,
     "metadata": {},
     "output_type": "execute_result"
    }
   ],
   "source": [
    "s_target = torch.tensor([np.random.dirichlet(np.ones(n_class),size=1) for _ in range(n_sample)])\n",
    "soft_target = torch.squeeze(s_target, 1)\n",
    "soft_target.shape"
   ]
  },
  {
   "cell_type": "code",
   "execution_count": 13,
   "id": "constant-heath",
   "metadata": {},
   "outputs": [
    {
     "data": {
      "text/plain": [
       "(tensor([[0.7865, 0.3806],\n",
       "         [0.7820, 0.4943],\n",
       "         [0.0335, 0.7917],\n",
       "         [0.8909, 0.8513],\n",
       "         [0.4682, 0.0496]], requires_grad=True),\n",
       " torch.Size([5, 2]),\n",
       " torch.Size([4, 5]))"
      ]
     },
     "execution_count": 13,
     "metadata": {},
     "output_type": "execute_result"
    }
   ],
   "source": [
    "A2, x2 = get_an_input(seed0, seed1, n_class, n_sample, n_feature)\n",
    "A2, A2.shape, x2.shape"
   ]
  },
  {
   "cell_type": "code",
   "execution_count": 14,
   "id": "valid-whole",
   "metadata": {},
   "outputs": [
    {
     "data": {
      "text/plain": [
       "tensor([[0.6108, 0.3892],\n",
       "        [0.5890, 0.4110],\n",
       "        [0.4583, 0.5417],\n",
       "        [0.6429, 0.3571]], grad_fn=<SoftmaxBackward>)"
      ]
     },
     "execution_count": 14,
     "metadata": {},
     "output_type": "execute_result"
    }
   ],
   "source": [
    "torch.softmax(x2.matmul(A2), dim=1)"
   ]
  },
  {
   "cell_type": "code",
   "execution_count": 15,
   "id": "tropical-lecture",
   "metadata": {},
   "outputs": [
    {
     "data": {
      "text/plain": [
       "(tensor([0.5333, 0.5426, 0.4904, 0.4953], dtype=torch.float64,\n",
       "        grad_fn=<SumBackward1>),\n",
       " tensor(0.5154, dtype=torch.float64, grad_fn=<DivBackward0>))"
      ]
     },
     "execution_count": 15,
     "metadata": {},
     "output_type": "execute_result"
    }
   ],
   "source": [
    "m = soft_target.shape[0]\n",
    "soft_log_likelihood = torch.sum(logits * soft_target, dim=1)\n",
    "soft_loss = torch.sum(soft_log_likelihood, dim=0)/soft_target.shape[0]\n",
    "soft_log_likelihood, soft_loss"
   ]
  },
  {
   "cell_type": "code",
   "execution_count": 16,
   "id": "activated-legend",
   "metadata": {},
   "outputs": [
    {
     "data": {
      "text/plain": [
       "tensor([0.5333, 0.5426, 0.4904, 0.4953], dtype=torch.float64,\n",
       "       grad_fn=<SumBackward1>)"
      ]
     },
     "execution_count": 16,
     "metadata": {},
     "output_type": "execute_result"
    }
   ],
   "source": [
    "soft_log_likelihood"
   ]
  },
  {
   "cell_type": "code",
   "execution_count": 17,
   "id": "novel-vintage",
   "metadata": {},
   "outputs": [
    {
     "data": {
      "text/plain": [
       "tensor([1.4258, 0.6359], dtype=torch.float64, grad_fn=<SumBackward1>)"
      ]
     },
     "execution_count": 17,
     "metadata": {},
     "output_type": "execute_result"
    }
   ],
   "source": [
    "torch.sum(logits * soft_target, dim=0)"
   ]
  },
  {
   "cell_type": "code",
   "execution_count": null,
   "id": "vanilla-privilege",
   "metadata": {},
   "outputs": [],
   "source": []
  },
  {
   "cell_type": "code",
   "execution_count": null,
   "id": "improving-joseph",
   "metadata": {},
   "outputs": [],
   "source": []
  },
  {
   "cell_type": "code",
   "execution_count": null,
   "id": "single-mainstream",
   "metadata": {},
   "outputs": [],
   "source": []
  },
  {
   "cell_type": "code",
   "execution_count": null,
   "id": "coupled-dietary",
   "metadata": {},
   "outputs": [],
   "source": []
  }
 ],
 "metadata": {
  "kernelspec": {
   "display_name": "Python 3",
   "language": "python",
   "name": "python3"
  },
  "language_info": {
   "codemirror_mode": {
    "name": "ipython",
    "version": 3
   },
   "file_extension": ".py",
   "mimetype": "text/x-python",
   "name": "python",
   "nbconvert_exporter": "python",
   "pygments_lexer": "ipython3",
   "version": "3.7.6"
  }
 },
 "nbformat": 4,
 "nbformat_minor": 5
}
