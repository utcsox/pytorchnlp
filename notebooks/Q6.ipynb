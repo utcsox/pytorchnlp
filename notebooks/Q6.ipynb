{
 "cells": [
  {
   "cell_type": "markdown",
   "id": "subtle-durham",
   "metadata": {},
   "source": [
    "6.  When the number of class is 2, please modifiy your cross-entropy function, so that it can accept soft labels.  (In this case, the larget is no longer 0 or 1, it's a float number from 0 to 1 and stands for the probability of being from class 1. )"
   ]
  },
  {
   "cell_type": "code",
   "execution_count": 1,
   "id": "designed-backing",
   "metadata": {},
   "outputs": [],
   "source": [
    "import torch\n",
    "import numpy as np\n",
    "\n",
    "def get_an_input(seed0=0, seed1=1, n_class=2, n_sample=3, n_feature=5):\n",
    "\n",
    "    torch.manual_seed(seed0)\n",
    "\n",
    "    A = torch.autograd.Variable(torch.rand(n_feature, n_class), requires_grad=True)\n",
    "\n",
    "    torch.manual_seed(seed1)\n",
    "\n",
    "    x = torch.autograd.Variable(torch.rand(n_sample, n_feature), requires_grad=False)\n",
    "\n",
    "    return A, x\n",
    " \n",
    "\n",
    "def test(cross_entropy2, soft_cross_entropy, n_class=2, n_sample=4, n_feature=5):\n",
    "\n",
    "    seed0, seed1 = np.random.randint(100), np.random.randint(100)\n",
    "\n",
    "    loss = torch.nn.CrossEntropyLoss()\n",
    "\n",
    "    A0, x0 = get_an_input(seed0, seed1, n_class, n_sample, n_feature)\n",
    "\n",
    "    A1, x1 = get_an_input(seed0, seed1, n_class, n_sample, n_feature)\n",
    "    \n",
    "    A2, x2 = get_an_input(seed0, seed1, n_class, n_sample, n_feature)\n",
    "\n",
    "    target = torch.tensor([np.random.randint(n_class) for _ in range(n_sample)])\n",
    "    \n",
    "\n",
    "    loss0 = loss(x1.matmul(A1), target)\n",
    "\n",
    "    loss1 = cross_entropy2(torch.softmax(x0.matmul(A0), dim=1), target)\n",
    "    \n",
    "    s_target = torch.tensor([np.random.dirichlet(np.ones(n_class),size=1) for _ in range(n_sample)])\n",
    "    soft_target = torch.squeeze(s_target, 1)\n",
    "     \n",
    "#     loss2 = soft_cross_entropy(torch.softmax(x2.matmul(A2), dim=1), soft_target)\n",
    "\n",
    " \n",
    "    loss0.backward()\n",
    "\n",
    "    loss1.backward()\n",
    "    \n",
    "#     loss2.backward()\n",
    "    \n",
    "\n",
    "\n",
    "    print(loss0, '\\n')\n",
    "\n",
    "    print(loss1, '\\n')\n",
    "    \n",
    "#     print(loss2, '\\n')\n",
    "\n",
    "    print(A0.grad, '\\n')\n",
    "\n",
    "    print(A1.grad, '\\n')\n",
    "    \n",
    "#     print(A2.grad, '\\n')\n",
    "    \n",
    "\n",
    "def soft_cross_entropy(logits, target):\n",
    "    #### start your code #####\n",
    "    m = target.shape[0]\n",
    "    soft_log_likelihood = -torch.log(torch.sum(logits * target, dim=1))\n",
    "    soft_loss = torch.sum(soft_log_likelihood, dim=0)/m\n",
    "    \n",
    "    return soft_loss\n",
    "    \n",
    "    ### End your code   ##### \n",
    "\n",
    "def cross_entropy2(logits, target):\n",
    "    \n",
    "\n",
    "    #################### Start your code ######################\n",
    "    m = target.shape[0]\n",
    "    log_likelihood = -torch.log(logits[range(m), target])\n",
    "    loss = torch.sum(log_likelihood, dim=0)/m\n",
    "    \n",
    "    print('m has a shape of:', m)\n",
    "    print(\"cross_entropy2 loss\", loss)\n",
    "\n",
    "    #################### End your code #######################\n",
    "\n",
    "    return loss"
   ]
  },
  {
   "cell_type": "code",
   "execution_count": 2,
   "id": "residential-briefs",
   "metadata": {},
   "outputs": [
    {
     "name": "stdout",
     "output_type": "stream",
     "text": [
      "m has a shape of: 4\n",
      "cross_entropy2 loss tensor(0.7175, grad_fn=<DivBackward0>)\n",
      "tensor(0.7175, grad_fn=<NllLossBackward>) \n",
      "\n",
      "tensor(0.7175, grad_fn=<DivBackward0>) \n",
      "\n",
      "tensor([[-0.0995,  0.0995],\n",
      "        [-0.1342,  0.1342],\n",
      "        [-0.0376,  0.0376],\n",
      "        [ 0.1504, -0.1504],\n",
      "        [ 0.0516, -0.0516]]) \n",
      "\n",
      "tensor([[-0.0995,  0.0995],\n",
      "        [-0.1342,  0.1342],\n",
      "        [-0.0376,  0.0376],\n",
      "        [ 0.1504, -0.1504],\n",
      "        [ 0.0516, -0.0516]]) \n",
      "\n"
     ]
    }
   ],
   "source": [
    "test(cross_entropy2, soft_cross_entropy)"
   ]
  },
  {
   "cell_type": "code",
   "execution_count": 3,
   "id": "indie-mauritius",
   "metadata": {},
   "outputs": [],
   "source": [
    "# (tensor([1, 1, 0, 0]),\n",
    "#  tensor([[0.4736, 0.6136],\n",
    "#          [0.0121, 0.0396],\n",
    "#          [0.5674, 0.2538],\n",
    "#          [0.5338, 0.6093],\n",
    "#          [0.7162, 0.6043]], requires_grad=True),\n",
    "#  tensor([[0.5695, 0.0047, 0.9303, 0.7257, 0.8295],\n",
    "#          [0.7683, 0.0600, 0.1453, 0.2924, 0.5292],\n",
    "#          [0.1466, 0.8305, 0.3579, 0.7729, 0.4808],\n",
    "#          [0.2147, 0.0352, 0.9872, 0.6413, 0.4447]]),\n",
    "#  tensor([[0.5621, 0.4379],\n",
    "#          [0.4934, 0.5066],\n",
    "#          [0.5161, 0.4839],\n",
    "#          [0.5695, 0.4305]], grad_fn=<SoftmaxBackward>))"
   ]
  },
  {
   "cell_type": "code",
   "execution_count": 4,
   "id": "cordless-rapid",
   "metadata": {},
   "outputs": [
    {
     "data": {
      "text/plain": [
       "(tensor([1, 1, 0, 1]),\n",
       " tensor([[0.2364, 0.2266],\n",
       "         [0.8005, 0.1692],\n",
       "         [0.2650, 0.7720],\n",
       "         [0.1282, 0.7452],\n",
       "         [0.8045, 0.6357]], requires_grad=True),\n",
       " tensor([[0.7644, 0.3751, 0.0751, 0.5308, 0.9660],\n",
       "         [0.2770, 0.3372, 0.8910, 0.4304, 0.3090],\n",
       "         [0.3993, 0.5183, 0.0927, 0.3571, 0.9848],\n",
       "         [0.3928, 0.9554, 0.3048, 0.2989, 0.3510]]),\n",
       " tensor([[0.5104, 0.4896],\n",
       "         [0.3895, 0.6105],\n",
       "         [0.5573, 0.4427],\n",
       "         [0.5811, 0.4189]], grad_fn=<SoftmaxBackward>))"
      ]
     },
     "execution_count": 4,
     "metadata": {},
     "output_type": "execute_result"
    }
   ],
   "source": [
    "n_class = 2\n",
    "n_sample = 4\n",
    "n_feature= 5\n",
    "\n",
    "seed0, seed1 = np.random.randint(100), np.random.randint(100)\n",
    "A1, x1 = get_an_input(seed0, seed1, n_class, n_sample, n_feature)\n",
    "target = torch.tensor([np.random.randint(n_class) for _ in range(n_sample)])\n",
    "logits = torch.softmax(x1.matmul(A1), dim=1)\n",
    "\n",
    "target, A1, x1, logits"
   ]
  },
  {
   "cell_type": "code",
   "execution_count": 5,
   "id": "religious-consumption",
   "metadata": {},
   "outputs": [
    {
     "data": {
      "text/plain": [
       "(tensor([0.7142, 0.4934, 0.5847, 0.8701], grad_fn=<NegBackward>),\n",
       " tensor(0.6656, grad_fn=<DivBackward0>))"
      ]
     },
     "execution_count": 5,
     "metadata": {},
     "output_type": "execute_result"
    }
   ],
   "source": [
    "m = target.shape[0]\n",
    "log_likelihood = -torch.log(logits[range(m), target])\n",
    "loss = torch.sum(log_likelihood, dim=0)/target.shape[0]\n",
    "log_likelihood, loss"
   ]
  },
  {
   "cell_type": "code",
   "execution_count": 6,
   "id": "modern-title",
   "metadata": {},
   "outputs": [
    {
     "data": {
      "text/plain": [
       "(tensor([[0.8465, 0.1535],\n",
       "         [0.4143, 0.5857],\n",
       "         [0.1658, 0.8342],\n",
       "         [0.8105, 0.1895]], dtype=torch.float64),\n",
       " torch.Size([4, 2]))"
      ]
     },
     "execution_count": 6,
     "metadata": {},
     "output_type": "execute_result"
    }
   ],
   "source": [
    "s_target = torch.tensor([np.random.dirichlet(np.ones(n_class),size=1) for _ in range(n_sample)])\n",
    "soft_target = torch.squeeze(s_target, 1)\n",
    "soft_target, soft_target.shape"
   ]
  },
  {
   "cell_type": "code",
   "execution_count": 7,
   "id": "higher-history",
   "metadata": {},
   "outputs": [
    {
     "data": {
      "text/plain": [
       "(tensor([[0.2364, 0.2266],\n",
       "         [0.8005, 0.1692],\n",
       "         [0.2650, 0.7720],\n",
       "         [0.1282, 0.7452],\n",
       "         [0.8045, 0.6357]], requires_grad=True),\n",
       " torch.Size([5, 2]),\n",
       " torch.Size([4, 5]))"
      ]
     },
     "execution_count": 7,
     "metadata": {},
     "output_type": "execute_result"
    }
   ],
   "source": [
    "A2, x2 = get_an_input(seed0, seed1, n_class, n_sample, n_feature)\n",
    "A2, A2.shape, x2.shape"
   ]
  },
  {
   "cell_type": "code",
   "execution_count": 8,
   "id": "common-toddler",
   "metadata": {},
   "outputs": [
    {
     "data": {
      "text/plain": [
       "tensor([[0.5104, 0.4896],\n",
       "        [0.3895, 0.6105],\n",
       "        [0.5573, 0.4427],\n",
       "        [0.5811, 0.4189]], grad_fn=<SoftmaxBackward>)"
      ]
     },
     "execution_count": 8,
     "metadata": {},
     "output_type": "execute_result"
    }
   ],
   "source": [
    "torch.softmax(x2.matmul(A2), dim=1)"
   ]
  },
  {
   "cell_type": "code",
   "execution_count": 9,
   "id": "forty-reggae",
   "metadata": {},
   "outputs": [
    {
     "data": {
      "text/plain": [
       "(tensor([0.5072, 0.5189, 0.4617, 0.5504], dtype=torch.float64,\n",
       "        grad_fn=<SumBackward1>),\n",
       " tensor(0.5096, dtype=torch.float64, grad_fn=<DivBackward0>))"
      ]
     },
     "execution_count": 9,
     "metadata": {},
     "output_type": "execute_result"
    }
   ],
   "source": [
    "m = soft_target.shape[0]\n",
    "soft_log_likelihood = torch.sum(logits * soft_target, dim=1)\n",
    "soft_loss = torch.sum(soft_log_likelihood, dim=0)/soft_target.shape[0]\n",
    "soft_log_likelihood, soft_loss"
   ]
  },
  {
   "cell_type": "code",
   "execution_count": 10,
   "id": "collective-amino",
   "metadata": {},
   "outputs": [
    {
     "data": {
      "text/plain": [
       "tensor([0.5072, 0.5189, 0.4617, 0.5504], dtype=torch.float64,\n",
       "       grad_fn=<SumBackward1>)"
      ]
     },
     "execution_count": 10,
     "metadata": {},
     "output_type": "execute_result"
    }
   ],
   "source": [
    "soft_log_likelihood"
   ]
  },
  {
   "cell_type": "code",
   "execution_count": 11,
   "id": "ecological-authority",
   "metadata": {},
   "outputs": [
    {
     "data": {
      "text/plain": [
       "tensor([1.1568, 0.8814], dtype=torch.float64, grad_fn=<SumBackward1>)"
      ]
     },
     "execution_count": 11,
     "metadata": {},
     "output_type": "execute_result"
    }
   ],
   "source": [
    "torch.sum(logits * soft_target, dim=0)"
   ]
  },
  {
   "cell_type": "code",
   "execution_count": 22,
   "id": "advance-birthday",
   "metadata": {},
   "outputs": [
    {
     "data": {
      "text/plain": [
       "(tensor([[0.3456, 0.6544],\n",
       "         [0.9930, 0.0070],\n",
       "         [0.1190, 0.8810],\n",
       "         [0.3765, 0.6235]], dtype=torch.float64),\n",
       " tensor([1, 1, 0, 0]))"
      ]
     },
     "execution_count": 22,
     "metadata": {},
     "output_type": "execute_result"
    }
   ],
   "source": [
    "target"
   ]
  },
  {
   "cell_type": "code",
   "execution_count": null,
   "id": "every-bulletin",
   "metadata": {},
   "outputs": [],
   "source": []
  }
 ],
 "metadata": {
  "kernelspec": {
   "display_name": "Python 3",
   "language": "python",
   "name": "python3"
  },
  "language_info": {
   "codemirror_mode": {
    "name": "ipython",
    "version": 3
   },
   "file_extension": ".py",
   "mimetype": "text/x-python",
   "name": "python",
   "nbconvert_exporter": "python",
   "pygments_lexer": "ipython3",
   "version": "3.7.6"
  }
 },
 "nbformat": 4,
 "nbformat_minor": 5
}
