{
 "cells": [
  {
   "cell_type": "code",
   "execution_count": 3,
   "id": "caring-thong",
   "metadata": {},
   "outputs": [
    {
     "name": "stdout",
     "output_type": "stream",
     "text": [
      "3.7.6\n"
     ]
    }
   ],
   "source": [
    "from platform import python_version\n",
    "from typing import List\n",
    "from collections import defaultdict\n",
    "print(python_version())"
   ]
  },
  {
   "cell_type": "markdown",
   "id": "delayed-expense",
   "metadata": {},
   "source": [
    "1.  We have two SORTED arrays of integers: A and B. A has empty slots at the end of it. It has exactly as many empty slots as there are elements in B. Your goal is to merge the elements from B into A so that array A contains all of the elements in sorted order. Optimize for speed and memory usage. \n",
    " \n",
    "Input: \n",
    "A = [1, 2, 3, _, _, _, _ ] \n",
    "B = [2, 4, 6, 100] \n",
    " \n",
    "Expected output: \n",
    "A = [1, 2, 2, 3, 4, 6, 100] \n"
   ]
  },
  {
   "cell_type": "code",
   "execution_count": 4,
   "id": "comfortable-maria",
   "metadata": {},
   "outputs": [],
   "source": [
    "def merge(A: List, B: List) ->List:\n",
    "    \n",
    "    pointerA = 0\n",
    "    for index in range(len(A)):\n",
    "        if A[index] != None:\n",
    "            pointerA = index\n",
    "            \n",
    "    pointerB, newIndex = len(B)-1, len(A)-1\n",
    "    \n",
    "    print(pointerA, A[pointerA])\n",
    "    \n",
    "    while pointerA >=0 and pointerB >= 0:\n",
    "        if A[pointerA] > B[pointerB]:\n",
    "            A[newIndex] = A[pointerA]\n",
    "            newIndex -= 1\n",
    "            pointerA -= 1\n",
    "            \n",
    "        else:\n",
    "            #print(B[pointerB], pointerA[newIndex])\n",
    "            A[newIndex] = B[pointerB]\n",
    "            newIndex -= 1\n",
    "            pointerB -= 1\n",
    "            \n",
    "    while pointerA >= 0:\n",
    "        A[newIndex] = A[pointerA]\n",
    "        pointerA -= 1\n",
    "        newIndex -= 1\n",
    "        \n",
    "    while pointerB >= 0:\n",
    "        A[newIndex] = B[pointerA]\n",
    "        pointerB -= 1\n",
    "        newIndex -= 1\n",
    "        \n",
    "    return A"
   ]
  },
  {
   "cell_type": "code",
   "execution_count": 5,
   "id": "owned-leisure",
   "metadata": {},
   "outputs": [
    {
     "name": "stdout",
     "output_type": "stream",
     "text": [
      "2 5\n"
     ]
    },
    {
     "data": {
      "text/plain": [
       "[1, 2, 3, 4, 5, 6, 100]"
      ]
     },
     "execution_count": 5,
     "metadata": {},
     "output_type": "execute_result"
    }
   ],
   "source": [
    "merge([1, 3, 5, None, None, None, None], [2, 4, 6, 100])"
   ]
  },
  {
   "cell_type": "markdown",
   "id": "third-muscle",
   "metadata": {},
   "source": [
    "2.  We have a list of various types of tasks to perform. Task types are identified with an identifier: task of type A, task of type B, task of type C, etc. Each task takes 1 time slot to execute, and once we have executed a task we need cooldown (parameter) time slots to recover before we can execute another task of the same type. However, we can execute tasks of other types in the meantime. The recovery interval is the same for all task types. We do not reorder the tasks: always execute in order in which we received them on input. \n",
    " \n",
    "Given a list of input tasks to run, and the cooldown interval, output the minimum number of time slots required to run them. \n",
    " \n",
    "Example 1: \n",
    "Tasks: A, B, B, A \n",
    "Recovery interval (cooldown): 2 \n",
    "Output: 7        \n",
    "(order is A _ _ A B _ A) \n",
    "\n",
    "Example 2:\n",
    "Tasks: A, A, B, A, B\n",
    "Recovery interval (cooldown): 2\n",
    "Output: 8\n",
    "(order is A_ _ A B _ A B)\n"
   ]
  },
  {
   "cell_type": "code",
   "execution_count": 6,
   "id": "threatened-brown",
   "metadata": {},
   "outputs": [],
   "source": [
    "def insert(tasks: List, cooldown: int) -> int:\n",
    "    if cooldown <= 0:\n",
    "        return len(tasks)\n",
    "    index, lookup, result = 0, defaultdict(int), 0\n",
    "    \n",
    "    while (index < len(tasks)):\n",
    "        curr = tasks[index]\n",
    "        if curr in lookup:\n",
    "            prev = lookup[curr] \n",
    "        else:\n",
    "            prev = -1\n",
    "        \n",
    "        if prev == -1 or result - prev > cooldown:\n",
    "            lookup[curr]= result\n",
    "            index += 1\n",
    "        else:\n",
    "            result += cooldown-(result-prev)+1\n",
    "            lookup[curr]= result\n",
    "            index += 1\n",
    "            \n",
    "        result += 1\n",
    "            \n",
    "    return result"
   ]
  },
  {
   "cell_type": "code",
   "execution_count": 7,
   "id": "distributed-universe",
   "metadata": {},
   "outputs": [
    {
     "data": {
      "text/plain": [
       "7"
      ]
     },
     "execution_count": 7,
     "metadata": {},
     "output_type": "execute_result"
    }
   ],
   "source": [
    "insert(['A', 'A', 'B', 'A'], 2)"
   ]
  },
  {
   "cell_type": "code",
   "execution_count": 8,
   "id": "sustained-snowboard",
   "metadata": {},
   "outputs": [
    {
     "data": {
      "text/plain": [
       "8"
      ]
     },
     "execution_count": 8,
     "metadata": {},
     "output_type": "execute_result"
    }
   ],
   "source": [
    "insert(['A', 'A', 'B', 'A', 'B'], 2)"
   ]
  },
  {
   "cell_type": "code",
   "execution_count": null,
   "id": "alone-environment",
   "metadata": {},
   "outputs": [],
   "source": []
  }
 ],
 "metadata": {
  "kernelspec": {
   "display_name": "Python 3",
   "language": "python",
   "name": "python3"
  },
  "language_info": {
   "codemirror_mode": {
    "name": "ipython",
    "version": 3
   },
   "file_extension": ".py",
   "mimetype": "text/x-python",
   "name": "python",
   "nbconvert_exporter": "python",
   "pygments_lexer": "ipython3",
   "version": "3.7.6"
  }
 },
 "nbformat": 4,
 "nbformat_minor": 5
}
