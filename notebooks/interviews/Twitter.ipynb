{
 "cells": [
  {
   "cell_type": "code",
   "execution_count": 5,
   "id": "fourth-jones",
   "metadata": {},
   "outputs": [
    {
     "name": "stdout",
     "output_type": "stream",
     "text": [
      "3.7.6\n"
     ]
    }
   ],
   "source": [
    "from platform import python_version\n",
    "from typing import List\n",
    "from collections import defaultdict\n",
    "print(python_version())"
   ]
  },
  {
   "cell_type": "markdown",
   "id": "legendary-breast",
   "metadata": {},
   "source": [
    "\"\"\"\n",
    "On Twitter, the algorithmic timeline is sorted such that the tweet ranked higher has a higher likelihood of getting user engagement so as to maximize overall engagement in the app.\n",
    "\n",
    "The authors of tweets provide one of the key signals in determining users’ likelihood of engaging with a particular tweet. For example, Jack Dorsey tends to generally like tweets authored by Biz Stone -- so serving Biz’s tweets to Jack would ensure higher engagement. At the same time, we also have to make sure we are serving a more “diverse” timeline -- showing tweets for different authors -- to improve user experience. \n",
    "\n",
    "The question is: Given a list of tweets sorted by scores descendingly with their corresponding scores and authors, transform the list such that consecutive tweets cannot be from the same author whenever possible. Always prefer the author whose tweets have the highest score if there are multiple possible authors to be considered.\n",
    "\n",
    "Conditions:\n",
    "0.0 < Score <= 1.0\n",
    "0 < N (number of tweets) <= 1000\n",
    "0 < K (number of distinct authors) <= 100\n",
    "\n",
    "Example IO\n",
    "\n",
    "Each tuple (score, authorId) represents a tweet. Input is a list of tweets with authors ranked in some initial ordering. The output is a list of tweets such that tweets by the same author are not together.\n",
    "\n",
    "Example 1\n",
    "Input: rankedTweetList = [(.6, \"A\"), (.5, \"A\"), (.4, \"B\"), (.3, \"B\"), (.2, \"C\"), (.1, \"C\")]\n",
    "Output:rankedTweetListAfterDiversity = [(.6, \"A\"), (.4, \"B\"), (.5, \"A\"), (.3, \"B\"), (.2, \"C\"), (.1, \"C\")] \n",
    "\n",
    "output = []\n",
    "dict = {\"A\":[0.6, 0.4], \"B\": []}\n",
    "\n",
    "Time Complexity\n",
    "N - number of tweets, K - number of authors\n",
    "- create dict - O(N)\n",
    "- loop the list - O(N)\n",
    " - first element is the largest O(1)\n",
    " \n",
    "- build a dictionary which key = author, value = tweet scores -> O(N)\n",
    "- loop the list\n",
    "    -- find the *largest value* for each of the user AND tweet from a different author - O(K)\n",
    "    \n",
    "- output = [A, B]\n",
    "    \n",
    "    O(N + N*K)\n",
    "    \n",
    "    \n",
    "input: AABBCC\n",
    "\n",
    "Example 2\n",
    "Input: rankedTweetList = [(.5, \"A\"), (.4, \"A\"), (.3, \"A\"), (.2, \"B\"), (.1, \"A\")]\n",
    "Output: rankedTweetListAfterDiversity = [(.5, \"A\"), (.2, \"B\"), (.4, \"A\"), (.3, \"A\"), (.1, \"A\")]\n",
    "\n",
    "\n",
    "[(0.9, \"A\"), (0.8, \"A\"), (0.2, \"B\"), (0.1, \"C\")] - > [(0.9, \"A\"), (0.2, \"B\"), (0.8, \"A\"), (0.1, \"C\")]\n",
    "\n",
    "\"\"\"\n"
   ]
  },
  {
   "cell_type": "code",
   "execution_count": 135,
   "id": "technological-employment",
   "metadata": {},
   "outputs": [],
   "source": [
    "def re_ranking(rankedTweetList: List[tuple]) -> List[tuple]:\n",
    "    \n",
    "    output, lookup, tmp = [], defaultdict(list), dict()\n",
    "    \n",
    "    #1.  Create a dictionary of author name and a list of its tweet scores\n",
    "    for score, author in rankedTweetList:\n",
    "        lookup[author].append(score)\n",
    "    \n",
    "    # 2. Add the first author and its max score to the output and remove it from the dictionary\n",
    "    max_author = max(lookup, key=lambda a: lookup[a])\n",
    "    output.append([lookup[max_author][0],max_author])\n",
    "    lookup[max_author].remove(lookup[max_author][0])\n",
    "    \n",
    "    while lookup: \n",
    "        if len(lookup) > 1:\n",
    "            tmp = lookup.copy()\n",
    "            tmp.pop(output[-1][1], None)\n",
    "        else:\n",
    "            tmp = lookup.copy()\n",
    "        max_author = max(tmp, key=lambda a: lookup[a])\n",
    "            \n",
    "        output.append((lookup[max_author][0], max_author))\n",
    "        lookup[max_author].remove(lookup[max_author][0])\n",
    "        if len(lookup[max_author]) < 1:\n",
    "            del lookup[max_author]\n",
    "    return output, lookup"
   ]
  },
  {
   "cell_type": "code",
   "execution_count": 136,
   "id": "following-spider",
   "metadata": {},
   "outputs": [
    {
     "data": {
      "text/plain": [
       "([[0.6, 'A'], (0.4, 'B'), (0.5, 'A'), (0.3, 'B'), (0.2, 'C'), (0.1, 'C')],\n",
       " defaultdict(list, {}))"
      ]
     },
     "execution_count": 136,
     "metadata": {},
     "output_type": "execute_result"
    }
   ],
   "source": [
    "re_ranking([(.6, \"A\"), (.5, \"A\"), (.4, \"B\"), (.3, \"B\"), (.2, \"C\"), (.1, \"C\")])"
   ]
  },
  {
   "cell_type": "code",
   "execution_count": 132,
   "id": "complex-martial",
   "metadata": {},
   "outputs": [
    {
     "data": {
      "text/plain": [
       "([[0.9, 'A'], (0.2, 'B'), (0.8, 'A'), (0.1, 'C')], defaultdict(list, {}))"
      ]
     },
     "execution_count": 132,
     "metadata": {},
     "output_type": "execute_result"
    }
   ],
   "source": [
    "re_ranking([(.9, \"A\"), (.8, \"A\"), (.2, \"B\"), (.1, \"C\")])"
   ]
  },
  {
   "cell_type": "code",
   "execution_count": 133,
   "id": "surprised-finance",
   "metadata": {},
   "outputs": [
    {
     "data": {
      "text/plain": [
       "([[0.5, 'A'], (0.2, 'B'), (0.4, 'A'), (0.3, 'A'), (0.1, 'A')],\n",
       " defaultdict(list, {}))"
      ]
     },
     "execution_count": 133,
     "metadata": {},
     "output_type": "execute_result"
    }
   ],
   "source": [
    "re_ranking([(.5, \"A\"), (.4, \"A\"), (.3, \"A\"), (.2, \"B\"), (.1, \"A\")])"
   ]
  },
  {
   "cell_type": "code",
   "execution_count": null,
   "id": "continued-personality",
   "metadata": {},
   "outputs": [],
   "source": []
  }
 ],
 "metadata": {
  "kernelspec": {
   "display_name": "Python 3",
   "language": "python",
   "name": "python3"
  },
  "language_info": {
   "codemirror_mode": {
    "name": "ipython",
    "version": 3
   },
   "file_extension": ".py",
   "mimetype": "text/x-python",
   "name": "python",
   "nbconvert_exporter": "python",
   "pygments_lexer": "ipython3",
   "version": "3.7.6"
  }
 },
 "nbformat": 4,
 "nbformat_minor": 5
}
