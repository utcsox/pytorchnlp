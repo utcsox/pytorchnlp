{
 "cells": [
  {
   "cell_type": "code",
   "execution_count": 86,
   "id": "familiar-pointer",
   "metadata": {},
   "outputs": [
    {
     "name": "stdout",
     "output_type": "stream",
     "text": [
      "3.7.6\n"
     ]
    }
   ],
   "source": [
    "from platform import python_version\n",
    "from typing import List\n",
    "from collections import defaultdict\n",
    "from collections import defaultdict\n",
    "import random\n",
    "print(python_version())"
   ]
  },
  {
   "cell_type": "markdown",
   "id": "handmade-lodge",
   "metadata": {},
   "source": [
    "Question:  Given a list of weight, return a random number that based on the input weight"
   ]
  },
  {
   "cell_type": "code",
   "execution_count": 87,
   "id": "north-thumbnail",
   "metadata": {},
   "outputs": [],
   "source": [
    "def weighted_random_number_generator(weight: List) -> int:\n",
    "    \"\"\" A function that return the weighted index of a given weight\n",
    "    Args:\n",
    "        weight:  a list of weight\n",
    "        n:  numbers of return elements\n",
    "       \n",
    "    Returns:\n",
    "        A list of weighted index based on the given weight array\n",
    "       \n",
    "    \"\"\"\n",
    "   \n",
    "    cumulative_sum, sum_array, output = 0, [], []\n",
    "   \n",
    "    total = sum(weight)\n",
    "    for w in weight:\n",
    "        cumulative_sum += w\n",
    "        sum_array.append(cumulative_sum)\n",
    "   \n",
    "    weighted_sum_array = [w/total for w in sum_array]\n",
    "   \n",
    "    ran = random.random()\n",
    "    for j, weight in enumerate(weighted_sum_array):\n",
    "        if ran <= weight:\n",
    "            return j\n"
   ]
  },
  {
   "cell_type": "code",
   "execution_count": 88,
   "id": "laden-simulation",
   "metadata": {},
   "outputs": [
    {
     "data": {
      "text/plain": [
       "3"
      ]
     },
     "execution_count": 88,
     "metadata": {},
     "output_type": "execute_result"
    }
   ],
   "source": [
    "weighted_random_number_generator([0.05, 0.05, 0.4, 0.4])"
   ]
  },
  {
   "cell_type": "markdown",
   "id": "mighty-registrar",
   "metadata": {},
   "source": [
    "Question:  Given a string and a random integer generator, return the randomized string"
   ]
  },
  {
   "cell_type": "code",
   "execution_count": 89,
   "id": "historic-strategy",
   "metadata": {},
   "outputs": [],
   "source": [
    "def random_string(string: str) -> str:\n",
    "    \"\"\" A function that return a randomized version of input string\n",
    "    Args:\n",
    "        string:  input string\n",
    "        \n",
    "       \n",
    "    Returns:\n",
    "        A randomized version of the input string\n",
    "       \n",
    "    \"\"\"\n",
    "    string_list = [char for char in string]\n",
    "    index = len(string)-1\n",
    "    \n",
    "    while index > 0:\n",
    "        swap_index = random.randint(0, index)\n",
    "        string_list[index], string_list[swap_index] = string_list[swap_index], string_list[index]\n",
    "        index -= 1\n",
    "        \n",
    "    \n",
    "    return \"\".join(string_list)\n"
   ]
  },
  {
   "cell_type": "code",
   "execution_count": 90,
   "id": "absolute-trademark",
   "metadata": {},
   "outputs": [
    {
     "data": {
      "text/plain": [
       "'jfgekabicdh'"
      ]
     },
     "execution_count": 90,
     "metadata": {},
     "output_type": "execute_result"
    }
   ],
   "source": [
    "random_string('abcdefghijk')\n"
   ]
  },
  {
   "cell_type": "code",
   "execution_count": null,
   "id": "fossil-ireland",
   "metadata": {},
   "outputs": [],
   "source": []
  }
 ],
 "metadata": {
  "kernelspec": {
   "display_name": "Python 3",
   "language": "python",
   "name": "python3"
  },
  "language_info": {
   "codemirror_mode": {
    "name": "ipython",
    "version": 3
   },
   "file_extension": ".py",
   "mimetype": "text/x-python",
   "name": "python",
   "nbconvert_exporter": "python",
   "pygments_lexer": "ipython3",
   "version": "3.7.6"
  }
 },
 "nbformat": 4,
 "nbformat_minor": 5
}
