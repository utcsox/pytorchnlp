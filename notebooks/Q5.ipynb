{
 "cells": [
  {
   "cell_type": "code",
   "execution_count": 9,
   "id": "everyday-parker",
   "metadata": {},
   "outputs": [],
   "source": [
    "import torch\n",
    "import numpy as np\n",
    "\n",
    "def get_an_input(seed0=0, seed1=1, n_class=2, n_sample=3, n_feature=5):\n",
    "\n",
    "    torch.manual_seed(seed0)\n",
    "\n",
    "    A = torch.autograd.Variable(torch.rand(n_feature, n_class), requires_grad=True)\n",
    "\n",
    "    torch.manual_seed(seed1)\n",
    "\n",
    "    x = torch.autograd.Variable(torch.rand(n_sample, n_feature), requires_grad=False)\n",
    "\n",
    "    return A, x\n",
    " \n",
    "\n",
    "def test(cross_entropy2, n_class=2, n_sample=4, n_feature=5):\n",
    "\n",
    "    seed0, seed1 = np.random.randint(100), np.random.randint(100)\n",
    "\n",
    "    loss = torch.nn.CrossEntropyLoss()\n",
    "\n",
    "    A0, x0 = get_an_input(seed0, seed1, n_class, n_sample, n_feature)\n",
    "\n",
    "    A1, x1 = get_an_input(seed0, seed1, n_class, n_sample, n_feature)\n",
    "\n",
    "    target = torch.tensor([np.random.randint(n_class) for _ in range(n_sample)])\n",
    "\n",
    " \n",
    "    loss0 = loss(x1.matmul(A1), target)\n",
    "\n",
    "    loss1 = cross_entropy2(torch.softmax(x0.matmul(A0), dim=1), target)\n",
    "\n",
    " \n",
    "    loss0.backward()\n",
    "\n",
    "    loss1.backward()\n",
    "\n",
    "\n",
    "    print(loss0, '\\n')\n",
    "\n",
    "    print(loss1, '\\n')\n",
    "\n",
    "    print(A0.grad, '\\n')\n",
    "\n",
    "    print(A1.grad, '\\n')\n",
    "\n",
    " \n",
    "\n",
    "def cross_entropy2(logits, target):\n",
    "\n",
    "    #################### Start your code ######################\n",
    "    m = target.shape[0]\n",
    "    log_likelihood = -torch.log(logits[range(m), target])\n",
    "    loss = torch.sum(log_likelihood, dim=0)/m\n",
    "    \n",
    "    print('m has a shape of:', m)\n",
    "    print(\"cross_entropy2 loss\", loss)\n",
    "\n",
    "    #################### End your code #######################\n",
    "\n",
    "    return loss\n",
    "\n",
    "def cross_entropy3(logits, target):\n",
    "    \n",
    "    m = target.shape[0]\n",
    "    output= []\n",
    "    \n",
    "    logitnp = logits.cpu().detach().numpy()\n",
    "    for index in range(m):\n",
    "        output.append(logitnp[index, target[index]])\n",
    "    print(output)\n",
    "    \n",
    "    tmp = np.array(output)   \n",
    "    \n",
    "    loss = torch.softmax(torch.FloatTensor(tmp))\n",
    "    \n",
    "    print(\"ce3:\" ,loss)\n",
    "        \n",
    "    #loss = torch.sum(-torch.log(torch.FloatTensor(tmp)), dim= 0)/m\n",
    "    \n",
    "    return loss"
   ]
  },
  {
   "cell_type": "code",
   "execution_count": 10,
   "id": "hidden-providence",
   "metadata": {},
   "outputs": [
    {
     "name": "stdout",
     "output_type": "stream",
     "text": [
      "m has a shape of: 4\n",
      "cross_entropy2 loss tensor(0.6576, grad_fn=<DivBackward0>)\n",
      "tensor(0.6576, grad_fn=<NllLossBackward>) \n",
      "\n",
      "tensor(0.6576, grad_fn=<DivBackward0>) \n",
      "\n",
      "tensor([[ 0.1306, -0.1306],\n",
      "        [ 0.0450, -0.0450],\n",
      "        [ 0.0045, -0.0045],\n",
      "        [ 0.0035, -0.0035],\n",
      "        [ 0.0551, -0.0551]]) \n",
      "\n",
      "tensor([[ 0.1306, -0.1306],\n",
      "        [ 0.0450, -0.0450],\n",
      "        [ 0.0045, -0.0045],\n",
      "        [ 0.0035, -0.0035],\n",
      "        [ 0.0551, -0.0551]]) \n",
      "\n"
     ]
    }
   ],
   "source": [
    "test(cross_entropy2)"
   ]
  },
  {
   "cell_type": "code",
   "execution_count": 11,
   "id": "written-internet",
   "metadata": {},
   "outputs": [
    {
     "name": "stdout",
     "output_type": "stream",
     "text": [
      "A0 has a shape of: torch.Size([5, 2])\n",
      "x0 has a shape of: torch.Size([4, 5])\n",
      "target: tensor([0, 1, 1, 1])\n"
     ]
    },
    {
     "data": {
      "text/plain": [
       "(tensor([[0.4617, 0.5383],\n",
       "         [0.5610, 0.4390],\n",
       "         [0.5320, 0.4680],\n",
       "         [0.4610, 0.5390]], grad_fn=<SoftmaxBackward>),\n",
       " torch.Size([4, 2]))"
      ]
     },
     "execution_count": 11,
     "metadata": {},
     "output_type": "execute_result"
    }
   ],
   "source": [
    "n_class = 2\n",
    "n_sample = 4\n",
    "n_feature= 5\n",
    "\n",
    "seed0, seed1 = np.random.randint(100), np.random.randint(100)\n",
    "A0, x0 = get_an_input(seed0, seed1, n_class, n_sample, n_feature)\n",
    "print(f'A0 has a shape of: {A0.shape}')     # (feature x class)\n",
    "print(f'x0 has a shape of: {x0.shape}')     # (sample x feature)\n",
    "target = torch.tensor([np.random.randint(n_class) for _ in range(n_sample)])  # (1, batch)\n",
    "logits = torch.softmax(x0.matmul(A0), dim = 1)  # (batch_size, num of class)\n",
    "print('target:', target)\n",
    "\n",
    "logits, logits.shape"
   ]
  },
  {
   "cell_type": "code",
   "execution_count": 12,
   "id": "young-shade",
   "metadata": {},
   "outputs": [
    {
     "name": "stdout",
     "output_type": "stream",
     "text": [
      "tensor([0.4617, 0.4390, 0.4680, 0.5390], grad_fn=<IndexBackward>)\n"
     ]
    },
    {
     "data": {
      "text/plain": [
       "tensor([0.7728, 0.8232, 0.7593, 0.6181], grad_fn=<NegBackward>)"
      ]
     },
     "execution_count": 12,
     "metadata": {},
     "output_type": "execute_result"
    }
   ],
   "source": [
    "m = target.shape[0]\n",
    "print(logits[range(m), target])\n",
    "log_likelihood = -torch.log(logits[range(m), target])\n",
    "log_likelihood"
   ]
  },
  {
   "cell_type": "code",
   "execution_count": 13,
   "id": "eastern-plant",
   "metadata": {},
   "outputs": [
    {
     "data": {
      "text/plain": [
       "(tensor(0.7434, grad_fn=<DivBackward0>), 0.8927749999999999)"
      ]
     },
     "execution_count": 13,
     "metadata": {},
     "output_type": "execute_result"
    }
   ],
   "source": [
    "loss = torch.sum(log_likelihood, dim=0)/m\n",
    "loss, (0.3614+0.7478+1.1767+1.2852)/4"
   ]
  },
  {
   "cell_type": "code",
   "execution_count": null,
   "id": "nuclear-algeria",
   "metadata": {},
   "outputs": [],
   "source": []
  }
 ],
 "metadata": {
  "kernelspec": {
   "display_name": "image_search",
   "language": "python",
   "name": "image_search"
  },
  "language_info": {
   "codemirror_mode": {
    "name": "ipython",
    "version": 3
   },
   "file_extension": ".py",
   "mimetype": "text/x-python",
   "name": "python",
   "nbconvert_exporter": "python",
   "pygments_lexer": "ipython3",
   "version": "3.7.9"
  }
 },
 "nbformat": 4,
 "nbformat_minor": 5
}
