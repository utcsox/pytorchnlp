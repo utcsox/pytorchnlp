{
 "cells": [
  {
   "cell_type": "code",
   "execution_count": 15,
   "id": "elder-identification",
   "metadata": {},
   "outputs": [],
   "source": [
    "import torch\n",
    "import numpy as np\n",
    "\n",
    "def get_an_input(seed0=0, seed1=1, n_class=2, n_sample=3, n_feature=5):\n",
    "\n",
    "    torch.manual_seed(seed0)\n",
    "\n",
    "    A = torch.autograd.Variable(torch.rand(n_feature, n_class), requires_grad=True)\n",
    "\n",
    "    torch.manual_seed(seed1)\n",
    "\n",
    "    x = torch.autograd.Variable(torch.rand(n_sample, n_feature), requires_grad=False)\n",
    "\n",
    "    return A, x\n",
    " \n",
    "\n",
    "def test(cross_entropy2, n_class=2, n_sample=4, n_feature=5):\n",
    "\n",
    "    seed0, seed1 = np.random.randint(100), np.random.randint(100)\n",
    "\n",
    "    loss = torch.nn.CrossEntropyLoss()\n",
    "\n",
    "    A0, x0 = get_an_input(seed0, seed1, n_class, n_sample, n_feature)\n",
    "\n",
    "    A1, x1 = get_an_input(seed0, seed1, n_class, n_sample, n_feature)\n",
    "\n",
    "    target = torch.tensor([np.random.randint(n_class) for _ in range(n_sample)])\n",
    "\n",
    " \n",
    "    loss0 = loss(x1.matmul(A1), target)\n",
    "\n",
    "    loss1 = cross_entropy2(torch.softmax(x0.matmul(A0), dim=1), target)\n",
    "\n",
    " \n",
    "    loss0.backward()\n",
    "\n",
    "    loss1.backward()\n",
    "\n",
    "\n",
    "    print(loss0, '\\n')\n",
    "\n",
    "    print(loss1, '\\n')\n",
    "\n",
    "    print(A0.grad, '\\n')\n",
    "\n",
    "    print(A1.grad, '\\n')\n",
    "\n",
    " \n",
    "\n",
    "def cross_entropy2(logits, target):\n",
    "\n",
    "    #################### Start your code ######################\n",
    "    m = target.shape[0]\n",
    "    log_likelihood = -torch.log(logits[range(m), target])\n",
    "    loss = torch.sum(log_likelihood, dim=0)/m\n",
    "    \n",
    "    print('m has a shape of:', m)\n",
    "    print(\"cross_entropy2 loss\", loss)\n",
    "\n",
    "    #################### End your code #######################\n",
    "\n",
    "    return loss"
   ]
  },
  {
   "cell_type": "code",
   "execution_count": 16,
   "id": "dutch-whole",
   "metadata": {},
   "outputs": [
    {
     "name": "stdout",
     "output_type": "stream",
     "text": [
      "m has a shape of: 4\n",
      "cross_entropy2 loss tensor(0.6111, grad_fn=<DivBackward0>)\n",
      "tensor(0.6111, grad_fn=<NllLossBackward>) \n",
      "\n",
      "tensor(0.6111, grad_fn=<DivBackward0>) \n",
      "\n",
      "tensor([[-0.2064,  0.2064],\n",
      "        [-0.3126,  0.3126],\n",
      "        [-0.1520,  0.1520],\n",
      "        [-0.2946,  0.2946],\n",
      "        [-0.1418,  0.1418]]) \n",
      "\n",
      "tensor([[-0.2064,  0.2064],\n",
      "        [-0.3126,  0.3126],\n",
      "        [-0.1520,  0.1520],\n",
      "        [-0.2946,  0.2946],\n",
      "        [-0.1418,  0.1418]]) \n",
      "\n"
     ]
    }
   ],
   "source": [
    "test(cross_entropy2)"
   ]
  },
  {
   "cell_type": "code",
   "execution_count": 5,
   "id": "lovely-thong",
   "metadata": {},
   "outputs": [
    {
     "name": "stdout",
     "output_type": "stream",
     "text": [
      "A0 has a shape of: torch.Size([5, 2])\n",
      "x0 has a shape of: torch.Size([4, 5])\n"
     ]
    },
    {
     "data": {
      "text/plain": [
       "(tensor([[0.3033, 0.6967],\n",
       "         [0.5266, 0.4734],\n",
       "         [0.3083, 0.6917],\n",
       "         [0.2766, 0.7234]], grad_fn=<SoftmaxBackward>),\n",
       " torch.Size([4, 2]))"
      ]
     },
     "execution_count": 5,
     "metadata": {},
     "output_type": "execute_result"
    }
   ],
   "source": [
    "n_class = 2\n",
    "n_sample = 4\n",
    "n_feature= 5\n",
    "\n",
    "seed0, seed1 = np.random.randint(100), np.random.randint(100)\n",
    "A0, x0 = get_an_input(seed0, seed1, n_class, n_sample, n_feature)\n",
    "print(f'A0 has a shape of: {A0.shape}')     # (feature x class)\n",
    "print(f'x0 has a shape of: {x0.shape}')     # (sample x feature)\n",
    "target = torch.tensor([np.random.randint(n_class) for _ in range(n_sample)])  # (1, batch)\n",
    "logits = torch.softmax(x0.matmul(A0), dim = 1)  # (batch_size, num of class)\n",
    "\n",
    "logits, logits.shape"
   ]
  },
  {
   "cell_type": "code",
   "execution_count": 13,
   "id": "visible-olive",
   "metadata": {},
   "outputs": [
    {
     "name": "stdout",
     "output_type": "stream",
     "text": [
      "tensor([0.6967, 0.4734, 0.3083, 0.2766], grad_fn=<IndexBackward>)\n"
     ]
    },
    {
     "data": {
      "text/plain": [
       "tensor([0.3614, 0.7478, 1.1767, 1.2852], grad_fn=<NegBackward>)"
      ]
     },
     "execution_count": 13,
     "metadata": {},
     "output_type": "execute_result"
    }
   ],
   "source": [
    "m = target.shape[0]\n",
    "print(logits[range(m), target])\n",
    "log_likelihood = -torch.log(logits[range(m), target])\n",
    "log_likelihood"
   ]
  },
  {
   "cell_type": "code",
   "execution_count": 14,
   "id": "better-surrey",
   "metadata": {},
   "outputs": [
    {
     "data": {
      "text/plain": [
       "(tensor(0.8928, grad_fn=<DivBackward0>), 0.8927749999999999)"
      ]
     },
     "execution_count": 14,
     "metadata": {},
     "output_type": "execute_result"
    }
   ],
   "source": [
    "loss = torch.sum(log_likelihood, dim=0)/m\n",
    "loss, (0.3614+0.7478+1.1767+1.2852)/4"
   ]
  }
 ],
 "metadata": {
  "kernelspec": {
   "display_name": "image_search",
   "language": "python",
   "name": "image_search"
  },
  "language_info": {
   "codemirror_mode": {
    "name": "ipython",
    "version": 3
   },
   "file_extension": ".py",
   "mimetype": "text/x-python",
   "name": "python",
   "nbconvert_exporter": "python",
   "pygments_lexer": "ipython3",
   "version": "3.7.9"
  }
 },
 "nbformat": 4,
 "nbformat_minor": 5
}
