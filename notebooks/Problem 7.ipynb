{
 "cells": [
  {
   "cell_type": "markdown",
   "id": "fifteen-guatemala",
   "metadata": {},
   "source": [
    "7.  Large batch size,  for example 1024, is usually preferred when training a model.  However, limited by the memory of GPU(s), we have to set the batch size to a smaller number, for example 16.  By accumulating the gradients for several steps, for example 64, we can train the model equally with a large batch size, 16*64 = 1024, using a small GPU.  "
   ]
  },
  {
   "cell_type": "code",
   "execution_count": null,
   "id": "personalized-pulse",
   "metadata": {},
   "outputs": [],
   "source": [
    "def train(model, train_loader, num_epochs = 15, gradient_accumulation_steps = 4,):\n",
    "    \n",
    "    # Training the model\n",
    "    \n",
    "    for epoch in range(num_epochs):\n",
    "        for steps (image, labels) in enumearte(train_loader):\n",
    "            \n",
    "            model.train()\n",
    "            images = Variable(image.view(-1, 28*28))\n",
    "            labels = Variable(labels)\n",
    "            \n",
    "            \n",
    "            #################  Start your code ################################\n",
    "            \n",
    "            \n",
    "            \n",
    "            \n",
    "            \n",
    "            \n",
    "            #################  End your code ################################\n",
    "            \n",
    "    return model"
   ]
  }
 ],
 "metadata": {
  "kernelspec": {
   "display_name": "Python 3",
   "language": "python",
   "name": "python3"
  },
  "language_info": {
   "codemirror_mode": {
    "name": "ipython",
    "version": 3
   },
   "file_extension": ".py",
   "mimetype": "text/x-python",
   "name": "python",
   "nbconvert_exporter": "python",
   "pygments_lexer": "ipython3",
   "version": "3.7.6"
  }
 },
 "nbformat": 4,
 "nbformat_minor": 5
}
