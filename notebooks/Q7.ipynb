{
 "cells": [
  {
   "cell_type": "markdown",
   "id": "weird-young",
   "metadata": {},
   "source": [
    "7.  Large batch size,  for example 1024, is usually preferred when training a model.  However, limited by the memory of GPU(s), we have to set the batch size to a smaller number, for example 16.  By accumulating the gradients for several steps, for example 64, we can train the model equally with a large batch size, 16*64 = 1024, using a small GPU.  "
   ]
  },
  {
   "cell_type": "code",
   "execution_count": 1,
   "id": "confident-richardson",
   "metadata": {},
   "outputs": [],
   "source": [
    "import matplotlib.pyplot as plt\n",
    "import torch\n",
    "import torchvision\n",
    "import torchvision.datasets\n",
    "\n",
    "from torch.autograd import Variable\n",
    "from torchvision import datasets, transforms as T\n",
    "\n",
    "import torchvision.models as models\n",
    "import torch.nn as nn\n",
    "import torch.nn.functional as F\n",
    "import torch.optim as optim"
   ]
  },
  {
   "cell_type": "code",
   "execution_count": 2,
   "id": "interested-disease",
   "metadata": {},
   "outputs": [],
   "source": [
    "trainset = torchvision.datasets.MNIST('./data/', train=True, download=False, \n",
    "                                    transform=torchvision.transforms.Compose([\n",
    "                                              torchvision.transforms.ToTensor(),    \n",
    "                                              torchvision.transforms.Normalize((0.1307,), (0.3081,))\n",
    "                                         ]))\n",
    "                                        \n",
    "trainloader = torch.utils.data.DataLoader(trainset, batch_size=16, shuffle=True, num_workers=2)"
   ]
  },
  {
   "cell_type": "code",
   "execution_count": 3,
   "id": "superb-electron",
   "metadata": {},
   "outputs": [],
   "source": [
    "testset = torchvision.datasets.MNIST('./data/', train=False, download=False,\n",
    "                                    transform=torchvision.transforms.Compose([\n",
    "                                              torchvision.transforms.ToTensor(),    \n",
    "                                              torchvision.transforms.Normalize((0.1307,), (0.3081))\n",
    "                                         ]))\n",
    "testloader = torch.utils.data.DataLoader(trainset, batch_size=16, shuffle=True, num_workers=2)"
   ]
  },
  {
   "cell_type": "code",
   "execution_count": 4,
   "id": "adaptive-member",
   "metadata": {},
   "outputs": [
    {
     "data": {
      "text/plain": [
       "torch.Size([16, 1, 28, 28])"
      ]
     },
     "execution_count": 4,
     "metadata": {},
     "output_type": "execute_result"
    }
   ],
   "source": [
    "examples = enumerate(testloader)\n",
    "batch_idx, (example_data, example_targets) = next(examples)\n",
    "example_data.shape"
   ]
  },
  {
   "cell_type": "code",
   "execution_count": 5,
   "id": "animated-confirmation",
   "metadata": {},
   "outputs": [
    {
     "data": {
      "image/png": "[encoded data removed]",
      "text/plain": [
       "<Figure size 432x288 with 6 Axes>"
      ]
     },
     "metadata": {},
     "output_type": "display_data"
    }
   ],
   "source": [
    "fig = plt.figure()\n",
    "\n",
    "for i in range(6):\n",
    "    plt.subplot(2, 3, i+1)\n",
    "    plt.tight_layout()\n",
    "    plt.imshow(example_data[i][0], cmap='gray', interpolation='none')\n",
    "    plt.title(\"Ground Truth: {}\".format(example_targets[i]))\n",
    "    plt.xticks([])\n",
    "    plt.yticks([])\n",
    " \n"
   ]
  },
  {
   "cell_type": "code",
   "execution_count": 6,
   "id": "danish-guard",
   "metadata": {},
   "outputs": [],
   "source": [
    "# class Net(nn.Module):\n",
    "#     def __init__(self):\n",
    "#         super(Net, self).__init__()\n",
    "#         self.conv1 = nn.Conv2d(1, 10, kernel_size=5)\n",
    "#         self.conv2 = nn.Conv2d(10, 20, kernel_size=5)\n",
    "#         self.conv2_drop = nn.Dropout2d()\n",
    "#         self.fc1 = nn.Linear(320, 50)\n",
    "#         self.fc2 = nn.Linear(50, 10)\n",
    "\n",
    "#     def forward(self, x):\n",
    "#         x = F.relu(F.max_pool2d(self.conv1(x), 2))\n",
    "#         x = F.relu(F.max_pool2d(self.conv2_drop(self.conv2(x)), 2))\n",
    "#         x = x.view(-1, 320)\n",
    "#         x = F.relu(self.fc1(x))\n",
    "#         x = F.dropout(x, training=self.training)\n",
    "#         x = self.fc2(x)\n",
    "#         return F.log_softmax(x)\n",
    "\n",
    "class Net(nn.Module):\n",
    "    def __init__(self):\n",
    "        super(Net, self).__init__()\n",
    "        self.conv1 = nn.Conv2d(1, 32, 3, 1)\n",
    "        self.conv2 = nn.Conv2d(32, 64, 3, 1)\n",
    "        self.dropout1 = nn.Dropout(0.25)\n",
    "        self.dropout2 = nn.Dropout(0.5)\n",
    "        self.fc1 = nn.Linear(9216, 128)\n",
    "        self.fc2 = nn.Linear(128, 10)\n",
    "\n",
    "    def forward(self, x):\n",
    "        x = self.conv1(x)\n",
    "        x = F.relu(x)\n",
    "        x = self.conv2(x)\n",
    "        x = F.relu(x)\n",
    "        x = F.max_pool2d(x, 2)\n",
    "        x = self.dropout1(x)\n",
    "        x = torch.flatten(x, 1)\n",
    "        x = self.fc1(x)\n",
    "        x = F.relu(x)\n",
    "        x = self.dropout2(x)\n",
    "        x = self.fc2(x)\n",
    "        output = F.log_softmax(x, dim=1)\n",
    "        return output"
   ]
  },
  {
   "cell_type": "code",
   "execution_count": 39,
   "id": "prostate-scout",
   "metadata": {},
   "outputs": [],
   "source": [
    "network = Net()\n",
    "LR = 0.05 \n",
    "MOMENTUM = 0.5\n",
    "optimizer = torch.optim.SGD(network.parameters(), lr=LR, momentum=MOMENTUM)\n",
    "criterion = torch.nn.CrossEntropyLoss()\n",
    "# criterion = torch.nn.functional.nll_loss()"
   ]
  },
  {
   "cell_type": "code",
   "execution_count": 27,
   "id": "million-homework",
   "metadata": {},
   "outputs": [],
   "source": [
    "n_epochs = 3\n",
    "log_interval = 1000\n",
    "train_losses = []\n",
    "train_counter = []\n",
    "test_losses = []\n",
    "test_counter = [i*len(trainloader.dataset) for i in range(n_epochs + 1)]"
   ]
  },
  {
   "cell_type": "code",
   "execution_count": 22,
   "id": "rental-twelve",
   "metadata": {},
   "outputs": [
    {
     "data": {
      "text/plain": [
       "Dataset MNIST\n",
       "    Number of datapoints: 60000\n",
       "    Root location: ./data/\n",
       "    Split: Train\n",
       "    StandardTransform\n",
       "Transform: Compose(\n",
       "               ToTensor()\n",
       "               Normalize(mean=(0.1307,), std=(0.3081,))\n",
       "           )"
      ]
     },
     "execution_count": 22,
     "metadata": {},
     "output_type": "execute_result"
    }
   ],
   "source": [
    "trainloader.dataset"
   ]
  },
  {
   "cell_type": "code",
   "execution_count": 37,
   "id": "toxic-creator",
   "metadata": {},
   "outputs": [],
   "source": [
    "def train(model=network, train_loader=trainloader, num_epochs = 1, gradient_accumulation_steps = 4):\n",
    "    \n",
    "    # Training the model\n",
    "    model.train()\n",
    "    for epoch in range(num_epochs):\n",
    "        \n",
    "        for steps, (image, labels) in enumerate(train_loader):\n",
    "            optimizer.zero_grad()\n",
    "\n",
    "#             images = Variable(image.view(-1, 28*28))\n",
    "#             labels = Variable(labels)\n",
    "            \n",
    "\n",
    "            #################  Start your code ################################\n",
    "            \n",
    "            output = model(image)                                  # 1.forward pass\n",
    "            #loss = torch.nn.functional.nll_loss(output, labels)    # 2. compute loss function\n",
    "            loss = criterion(output, labels)\n",
    "            loss.backward()                                        # 3. Backward pass\n",
    "            optimizer.step()                                       # 4. Optimizer step\n",
    "            \n",
    "            if steps % log_interval == 0:\n",
    "                print('Train Epoch: {} [{}/{} ({:.0f}%)]\\tLoss: {:.6f}'.format( \\\n",
    "                    num_epochs, steps * len(image), len(trainloader.dataset), \\\n",
    "                    100. * steps / len(trainloader), loss.item())) \n",
    "            \n",
    "      \n",
    "        print('Train Epoch: {} [{}/{} ({:.0f}%)]\\tLoss: {:.6f}'.format( \\\n",
    "                num_epochs, steps * len(image), len(trainloader.dataset), \\\n",
    "                100. * steps / len(trainloader), loss.item()))          \n",
    "            #################  End your code ################################\n",
    "            \n",
    "    return model"
   ]
  },
  {
   "cell_type": "code",
   "execution_count": 38,
   "id": "challenging-roads",
   "metadata": {},
   "outputs": [
    {
     "name": "stdout",
     "output_type": "stream",
     "text": [
      "Train Epoch: 1 [0/60000 (0%)]\tLoss: 2.316047\n",
      "Train Epoch: 1 [16000/60000 (27%)]\tLoss: 0.279748\n",
      "Train Epoch: 1 [32000/60000 (53%)]\tLoss: 0.474514\n",
      "Train Epoch: 1 [48000/60000 (80%)]\tLoss: 0.052040\n",
      "Train Epoch: 1 [59984/60000 (100%)]\tLoss: 0.006727\n"
     ]
    },
    {
     "data": {
      "text/plain": [
       "Net(\n",
       "  (conv1): Conv2d(1, 32, kernel_size=(3, 3), stride=(1, 1))\n",
       "  (conv2): Conv2d(32, 64, kernel_size=(3, 3), stride=(1, 1))\n",
       "  (dropout1): Dropout(p=0.25, inplace=False)\n",
       "  (dropout2): Dropout(p=0.5, inplace=False)\n",
       "  (fc1): Linear(in_features=9216, out_features=128, bias=True)\n",
       "  (fc2): Linear(in_features=128, out_features=10, bias=True)\n",
       ")"
      ]
     },
     "execution_count": 38,
     "metadata": {},
     "output_type": "execute_result"
    }
   ],
   "source": [
    "train()"
   ]
  },
  {
   "cell_type": "code",
   "execution_count": 40,
   "id": "collectible-malaysia",
   "metadata": {},
   "outputs": [],
   "source": [
    "def train2(model=network, train_loader=trainloader, num_epochs = 1, gradient_accumulation_steps = 4):\n",
    "    model.train()\n",
    "    optimizer.zero_grad()\n",
    "    for epoch in range(num_epochs):\n",
    "        \n",
    "        for steps, (image, labels) in enumerate(train_loader):\n",
    "            # model.train()\n",
    "#             images = Variable(image.view(-1, 28*28))\n",
    "#             labels = Variable(labels)\n",
    "            \n",
    "            #################  Start your code ################################\n",
    "            \n",
    "            output = model(image)                                  # 1. forward pass\n",
    "            # loss = torch.nn.functional.nll_loss(output, labels)    # 2. compute loss function\n",
    "            loss = criterion(output, labels)\n",
    "            loss = loss/gradient_accumulation_steps                # 3. normalize loss\n",
    "            loss.backward()                                        # 4. Backward pass\n",
    "            \n",
    "            if steps % log_interval == 0:\n",
    "                print('Train Epoch: {} [{}/{} ({:.0f}%)]\\tLoss: {:.6f}'.format( \\\n",
    "                    num_epochs, steps * len(image), len(trainloader.dataset), \\\n",
    "                    100. * steps / len(trainloader), loss.item())) \n",
    "            \n",
    "            if (steps + 1) % gradient_accumulation_steps == 0:\n",
    "                optimizer.step()\n",
    "                optimizer.zero_grad()         \n",
    "                \n",
    "            #################  End your code ################################\n",
    "            \n",
    "    return model"
   ]
  },
  {
   "cell_type": "code",
   "execution_count": 41,
   "id": "widespread-complaint",
   "metadata": {},
   "outputs": [
    {
     "name": "stdout",
     "output_type": "stream",
     "text": [
      "Train Epoch: 1 [0/60000 (0%)]\tLoss: 0.570432\n",
      "Train Epoch: 1 [16000/60000 (27%)]\tLoss: 0.040131\n",
      "Train Epoch: 1 [32000/60000 (53%)]\tLoss: 0.113665\n",
      "Train Epoch: 1 [48000/60000 (80%)]\tLoss: 0.049735\n"
     ]
    },
    {
     "data": {
      "text/plain": [
       "Net(\n",
       "  (conv1): Conv2d(1, 32, kernel_size=(3, 3), stride=(1, 1))\n",
       "  (conv2): Conv2d(32, 64, kernel_size=(3, 3), stride=(1, 1))\n",
       "  (dropout1): Dropout(p=0.25, inplace=False)\n",
       "  (dropout2): Dropout(p=0.5, inplace=False)\n",
       "  (fc1): Linear(in_features=9216, out_features=128, bias=True)\n",
       "  (fc2): Linear(in_features=128, out_features=10, bias=True)\n",
       ")"
      ]
     },
     "execution_count": 41,
     "metadata": {},
     "output_type": "execute_result"
    }
   ],
   "source": [
    "train2()"
   ]
  },
  {
   "cell_type": "code",
   "execution_count": null,
   "id": "adult-contents",
   "metadata": {},
   "outputs": [],
   "source": []
  },
  {
   "cell_type": "code",
   "execution_count": null,
   "id": "ancient-referral",
   "metadata": {},
   "outputs": [],
   "source": []
  }
 ],
 "metadata": {
  "kernelspec": {
   "display_name": "Python 3",
   "language": "python",
   "name": "python3"
  },
  "language_info": {
   "codemirror_mode": {
    "name": "ipython",
    "version": 3
   },
   "file_extension": ".py",
   "mimetype": "text/x-python",
   "name": "python",
   "nbconvert_exporter": "python",
   "pygments_lexer": "ipython3",
   "version": "3.7.6"
  }
 },
 "nbformat": 4,
 "nbformat_minor": 5
}
